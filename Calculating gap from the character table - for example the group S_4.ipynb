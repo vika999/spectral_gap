{
 "cells": [
  {
   "cell_type": "code",
   "execution_count": 1,
   "metadata": {
    "collapsed": true
   },
   "outputs": [],
   "source": [
    "import numpy as np\n",
    "import sympy\n",
    "import itertools\n",
    "from sympy import *\n",
    "\n",
    "init_printing(use_latex=\"mathjax\")"
   ]
  },
  {
   "cell_type": "markdown",
   "metadata": {},
   "source": [
    "$\\varphi_1,\\dots$ are the irreps. Let $\\rho$ be $\\varphi_k$"
   ]
  },
  {
   "cell_type": "markdown",
   "metadata": {},
   "source": [
    "input $\\dim G$"
   ]
  },
  {
   "cell_type": "code",
   "execution_count": 2,
   "metadata": {
    "collapsed": true
   },
   "outputs": [],
   "source": [
    "dim_G = 24"
   ]
  },
  {
   "cell_type": "markdown",
   "metadata": {},
   "source": [
    "input the character table M: first row ($i=0$) lists the numbers of elements in the conjugacy class $j$.\n",
    "The next rows give are the characters of the congugacy class $j$.\n",
    "So the first colunm is the characters of $1_G$ and therefore give us the dimension if the representation."
   ]
  },
  {
   "cell_type": "code",
   "execution_count": 3,
   "metadata": {},
   "outputs": [
    {
     "data": {
      "text/latex": [
       "$$\\left[\\begin{matrix}1 & 6 & 3 & 8 & 6\\\\1 & 1 & 1 & 1 & 1\\\\1 & -1 & 1 & 1 & -1\\\\2 & 0 & 2 & -1 & 0\\\\3 & -1 & -1 & 0 & 1\\\\3 & 1 & -1 & 0 & -1\\end{matrix}\\right]$$"
      ],
      "text/plain": [
       "⎡1  6   3   8   6 ⎤\n",
       "⎢                 ⎥\n",
       "⎢1  1   1   1   1 ⎥\n",
       "⎢                 ⎥\n",
       "⎢1  -1  1   1   -1⎥\n",
       "⎢                 ⎥\n",
       "⎢2  0   2   -1  0 ⎥\n",
       "⎢                 ⎥\n",
       "⎢3  -1  -1  0   1 ⎥\n",
       "⎢                 ⎥\n",
       "⎣3  1   -1  0   -1⎦"
      ]
     },
     "execution_count": 3,
     "metadata": {},
     "output_type": "execute_result"
    }
   ],
   "source": [
    "M = Matrix([ [1, 6, 3, 8, 6], [1, 1, 1, 1, 1], [1, -1, 1, 1, -1],\n",
    "             [2, 0, 2, -1, 0], [3, -1, -1, 0, 1], [3, 1, -1, 0, -1]])\n",
    "M\n"
   ]
  },
  {
   "cell_type": "markdown",
   "metadata": {},
   "source": [
    "$\\sum_{j\\in\\text{ conjugasy classes of }G} \\mid \\chi_\\rho (j) \\mid^2 \\chi_{\\varphi_i}(j)$ where $\\rho=\\varphi_k$ "
   ]
  },
  {
   "cell_type": "code",
   "execution_count": 4,
   "metadata": {
    "collapsed": true
   },
   "outputs": [],
   "source": [
    "def sum_in_lmbda(M, k, i):\n",
    "    n = 0\n",
    "    for j in range(0, M.cols):\n",
    "        n += M[0, j] * M[i, j] * Abs(M[k, j]) **2\n",
    "    return n\n"
   ]
  },
  {
   "cell_type": "markdown",
   "metadata": {},
   "source": [
    "$\\lambda_{\\varphi_i}^\\rho = \\frac{1}{\\mid G \\mid d_{\\varphi_i}}\\sum_{j\\in\\text{ conjugasy classes of }G} \\mid \\chi_\\rho (j) \\mid^2 \\chi_{\\varphi_i}(j)$ where $\\rho=\\varphi_k$ "
   ]
  },
  {
   "cell_type": "code",
   "execution_count": 5,
   "metadata": {
    "collapsed": true
   },
   "outputs": [],
   "source": [
    "def lmbda(M, k, i, dim_G):\n",
    "    return sum_in_lmbda(M, k, i) / (dim_G * M[i, 0])"
   ]
  },
  {
   "cell_type": "markdown",
   "metadata": {},
   "source": [
    "$L^\\rho = \\{ \\lambda_{\\varphi_i}^\\rho \\}_i$ and $\\rho = \\varphi_k$ not including $i=1$ i.e. without $\\lambda^\\rho_{\\varphi_1}$"
   ]
  },
  {
   "cell_type": "code",
   "execution_count": 6,
   "metadata": {
    "collapsed": true
   },
   "outputs": [],
   "source": [
    "def L_rho(M, k, dim_G):\n",
    "    l = [lmbda(M, k, i, dim_G) for i in range(2, M.rows)]\n",
    "    print('L_rho:', [simplify(x) for x in l])\n",
    "    return l"
   ]
  },
  {
   "cell_type": "markdown",
   "metadata": {},
   "source": [
    "$\\gamma^{\\varphi_k} = gap(\\rho=\\varphi_k) = 1 - \\max_i\\{L^{\\rho}\\}$"
   ]
  },
  {
   "cell_type": "code",
   "execution_count": 7,
   "metadata": {
    "collapsed": true
   },
   "outputs": [],
   "source": [
    "def gamma_k(M, k, dim_G):\n",
    "    return 1 - max(L_rho(M, k, dim_G))"
   ]
  },
  {
   "cell_type": "markdown",
   "metadata": {},
   "source": [
    "$\\gamma = (\\dots, \\gamma^{\\varphi_k} ,\\dots)$"
   ]
  },
  {
   "cell_type": "code",
   "execution_count": 8,
   "metadata": {},
   "outputs": [
    {
     "name": "stdout",
     "output_type": "stream",
     "text": [
      "L_rho: [0, 0, 0, 0]\n",
      "L_rho: [0, 0, 0, 0]\n",
      "L_rho: [1, 1/2, 0, 0]\n",
      "L_rho: [0, 1/2, 1/3, 1/3]\n",
      "L_rho: [0, 1/2, 1/3, 1/3]\n"
     ]
    },
    {
     "data": {
      "text/latex": [
       "$$\\left[\\begin{matrix}1\\\\1\\\\0\\\\\\frac{1}{2}\\\\\\frac{1}{2}\\end{matrix}\\right]$$"
      ],
      "text/plain": [
       "⎡ 1 ⎤\n",
       "⎢   ⎥\n",
       "⎢ 1 ⎥\n",
       "⎢   ⎥\n",
       "⎢ 0 ⎥\n",
       "⎢   ⎥\n",
       "⎢1/2⎥\n",
       "⎢   ⎥\n",
       "⎣1/2⎦"
      ]
     },
     "execution_count": 8,
     "metadata": {},
     "output_type": "execute_result"
    }
   ],
   "source": [
    "def gamma(M, dim_G):\n",
    "    return Matrix(M.rows - 1, 1, lambda k, _: gamma_k(M, k + 1, dim_G))\n",
    "g = gamma(M, dim_G)\n",
    "g"
   ]
  },
  {
   "cell_type": "code",
   "execution_count": 9,
   "metadata": {},
   "outputs": [
    {
     "data": {
      "text/latex": [
       "$$\\left[\\begin{matrix}1\\\\1\\\\0\\\\\\frac{1}{2}\\\\\\frac{1}{2}\\end{matrix}\\right]$$"
      ],
      "text/plain": [
       "⎡ 1 ⎤\n",
       "⎢   ⎥\n",
       "⎢ 1 ⎥\n",
       "⎢   ⎥\n",
       "⎢ 0 ⎥\n",
       "⎢   ⎥\n",
       "⎢1/2⎥\n",
       "⎢   ⎥\n",
       "⎣1/2⎦"
      ]
     },
     "execution_count": 9,
     "metadata": {},
     "output_type": "execute_result"
    }
   ],
   "source": [
    "simplify(g)"
   ]
  }
 ],
 "metadata": {
  "kernelspec": {
   "display_name": "Python 3",
   "language": "python",
   "name": "python3"
  },
  "language_info": {
   "codemirror_mode": {
    "name": "ipython",
    "version": 3
   },
   "file_extension": ".py",
   "mimetype": "text/x-python",
   "name": "python",
   "nbconvert_exporter": "python",
   "pygments_lexer": "ipython3",
   "version": "3.5.4"
  }
 },
 "nbformat": 4,
 "nbformat_minor": 1
}
