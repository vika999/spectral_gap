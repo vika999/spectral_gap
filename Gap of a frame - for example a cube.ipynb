{
 "cells": [
  {
   "cell_type": "code",
   "execution_count": 1,
   "metadata": {
    "collapsed": true
   },
   "outputs": [],
   "source": [
    "import numpy as np\n",
    "import sympy\n",
    "import itertools\n",
    "from sympy import *\n",
    "\n",
    "init_printing(use_latex=\"mathjax\")"
   ]
  },
  {
   "cell_type": "markdown",
   "metadata": {},
   "source": [
    "Let $d:=\\dim (H)$"
   ]
  },
  {
   "cell_type": "code",
   "execution_count": 2,
   "metadata": {
    "collapsed": true
   },
   "outputs": [],
   "source": [
    "d = 3"
   ]
  },
  {
   "cell_type": "markdown",
   "metadata": {},
   "source": [
    "Insert a frame $f$"
   ]
  },
  {
   "cell_type": "markdown",
   "metadata": {},
   "source": [
    "Cube"
   ]
  },
  {
   "cell_type": "code",
   "execution_count": 3,
   "metadata": {},
   "outputs": [
    {
     "data": {
      "text/latex": [
       "$$\\left [ \\left[\\begin{matrix}1\\\\1\\\\1\\end{matrix}\\right], \\quad \\left[\\begin{matrix}-1\\\\1\\\\1\\end{matrix}\\right], \\quad \\left[\\begin{matrix}1\\\\-1\\\\1\\end{matrix}\\right], \\quad \\left[\\begin{matrix}1\\\\1\\\\-1\\end{matrix}\\right], \\quad \\left[\\begin{matrix}-1\\\\-1\\\\1\\end{matrix}\\right], \\quad \\left[\\begin{matrix}1\\\\-1\\\\-1\\end{matrix}\\right], \\quad \\left[\\begin{matrix}-1\\\\1\\\\-1\\end{matrix}\\right], \\quad \\left[\\begin{matrix}-1\\\\-1\\\\-1\\end{matrix}\\right]\\right ]$$"
      ],
      "text/plain": [
       "⎡⎡1⎤  ⎡-1⎤  ⎡1 ⎤  ⎡1 ⎤  ⎡-1⎤  ⎡1 ⎤  ⎡-1⎤  ⎡-1⎤⎤\n",
       "⎢⎢ ⎥  ⎢  ⎥  ⎢  ⎥  ⎢  ⎥  ⎢  ⎥  ⎢  ⎥  ⎢  ⎥  ⎢  ⎥⎥\n",
       "⎢⎢1⎥, ⎢1 ⎥, ⎢-1⎥, ⎢1 ⎥, ⎢-1⎥, ⎢-1⎥, ⎢1 ⎥, ⎢-1⎥⎥\n",
       "⎢⎢ ⎥  ⎢  ⎥  ⎢  ⎥  ⎢  ⎥  ⎢  ⎥  ⎢  ⎥  ⎢  ⎥  ⎢  ⎥⎥\n",
       "⎣⎣1⎦  ⎣1 ⎦  ⎣1 ⎦  ⎣-1⎦  ⎣1 ⎦  ⎣-1⎦  ⎣-1⎦  ⎣-1⎦⎦"
      ]
     },
     "execution_count": 3,
     "metadata": {},
     "output_type": "execute_result"
    }
   ],
   "source": [
    "f_1 = Matrix([[1], [1], [1]])\n",
    "f_2 = Matrix([[-1], [1], [1]])\n",
    "f_3 = Matrix([[1], [-1], [1]])\n",
    "f_4 = Matrix([[1], [1], [-1]])\n",
    "f_5 = Matrix([[-1], [-1], [1]])\n",
    "f_6 = Matrix([[1], [-1], [-1]])\n",
    "f_7 = Matrix([[-1], [1], [-1]])\n",
    "f_8 = Matrix([[-1], [-1], [-1]])\n",
    "\n",
    "f = [f_1, f_2, f_3, f_4, f_5, f_6,f_7,f_8]\n",
    "f"
   ]
  },
  {
   "cell_type": "markdown",
   "metadata": {},
   "source": [
    "Calculating the frame bound $A$ (Proposition 2.1. p 12 in Waldron): Let $S =VV^∗ = AI_H ,\\ V := [f_j]_j$"
   ]
  },
  {
   "cell_type": "code",
   "execution_count": 4,
   "metadata": {},
   "outputs": [
    {
     "data": {
      "text/latex": [
       "$$\\left[\\begin{matrix}1 & -1 & 1 & 1 & -1 & 1 & -1 & -1\\\\1 & 1 & -1 & 1 & -1 & -1 & 1 & -1\\\\1 & 1 & 1 & -1 & 1 & -1 & -1 & -1\\end{matrix}\\right]$$"
      ],
      "text/plain": [
       "⎡1  -1  1   1   -1  1   -1  -1⎤\n",
       "⎢                             ⎥\n",
       "⎢1  1   -1  1   -1  -1  1   -1⎥\n",
       "⎢                             ⎥\n",
       "⎣1  1   1   -1  1   -1  -1  -1⎦"
      ]
     },
     "execution_count": 4,
     "metadata": {},
     "output_type": "execute_result"
    }
   ],
   "source": [
    "V = Matrix([v.T for v in f]).T\n",
    "V"
   ]
  },
  {
   "cell_type": "code",
   "execution_count": 5,
   "metadata": {},
   "outputs": [
    {
     "data": {
      "text/latex": [
       "$$\\left[\\begin{matrix}8 & 0 & 0\\\\0 & 8 & 0\\\\0 & 0 & 8\\end{matrix}\\right]$$"
      ],
      "text/plain": [
       "⎡8  0  0⎤\n",
       "⎢       ⎥\n",
       "⎢0  8  0⎥\n",
       "⎢       ⎥\n",
       "⎣0  0  8⎦"
      ]
     },
     "execution_count": 5,
     "metadata": {},
     "output_type": "execute_result"
    }
   ],
   "source": [
    "S = V * V.T.conjugate()\n",
    "S"
   ]
  },
  {
   "cell_type": "markdown",
   "metadata": {},
   "source": [
    "Insert  the frame bound $A$"
   ]
  },
  {
   "cell_type": "code",
   "execution_count": 6,
   "metadata": {},
   "outputs": [
    {
     "data": {
      "text/latex": [
       "$$8$$"
      ],
      "text/plain": [
       "8"
      ]
     },
     "execution_count": 6,
     "metadata": {},
     "output_type": "execute_result"
    }
   ],
   "source": [
    "A = S[0,0]\n",
    "A"
   ]
  },
  {
   "cell_type": "code",
   "execution_count": 7,
   "metadata": {
    "collapsed": true
   },
   "outputs": [],
   "source": [
    "def prj(u):\n",
    "    return u * u.T.conjugate()"
   ]
  },
  {
   "cell_type": "markdown",
   "metadata": {},
   "source": [
    "POVM $W_i = \\frac{1}{A}f_i f_i^*$"
   ]
  },
  {
   "cell_type": "code",
   "execution_count": 8,
   "metadata": {},
   "outputs": [
    {
     "data": {
      "text/latex": [
       "$$\\left [ \\left[\\begin{matrix}\\frac{1}{8} & \\frac{1}{8} & \\frac{1}{8}\\\\\\frac{1}{8} & \\frac{1}{8} & \\frac{1}{8}\\\\\\frac{1}{8} & \\frac{1}{8} & \\frac{1}{8}\\end{matrix}\\right], \\quad \\left[\\begin{matrix}\\frac{1}{8} & - \\frac{1}{8} & - \\frac{1}{8}\\\\- \\frac{1}{8} & \\frac{1}{8} & \\frac{1}{8}\\\\- \\frac{1}{8} & \\frac{1}{8} & \\frac{1}{8}\\end{matrix}\\right], \\quad \\left[\\begin{matrix}\\frac{1}{8} & - \\frac{1}{8} & \\frac{1}{8}\\\\- \\frac{1}{8} & \\frac{1}{8} & - \\frac{1}{8}\\\\\\frac{1}{8} & - \\frac{1}{8} & \\frac{1}{8}\\end{matrix}\\right], \\quad \\left[\\begin{matrix}\\frac{1}{8} & \\frac{1}{8} & - \\frac{1}{8}\\\\\\frac{1}{8} & \\frac{1}{8} & - \\frac{1}{8}\\\\- \\frac{1}{8} & - \\frac{1}{8} & \\frac{1}{8}\\end{matrix}\\right], \\quad \\left[\\begin{matrix}\\frac{1}{8} & \\frac{1}{8} & - \\frac{1}{8}\\\\\\frac{1}{8} & \\frac{1}{8} & - \\frac{1}{8}\\\\- \\frac{1}{8} & - \\frac{1}{8} & \\frac{1}{8}\\end{matrix}\\right], \\quad \\left[\\begin{matrix}\\frac{1}{8} & - \\frac{1}{8} & - \\frac{1}{8}\\\\- \\frac{1}{8} & \\frac{1}{8} & \\frac{1}{8}\\\\- \\frac{1}{8} & \\frac{1}{8} & \\frac{1}{8}\\end{matrix}\\right], \\quad \\left[\\begin{matrix}\\frac{1}{8} & - \\frac{1}{8} & \\frac{1}{8}\\\\- \\frac{1}{8} & \\frac{1}{8} & - \\frac{1}{8}\\\\\\frac{1}{8} & - \\frac{1}{8} & \\frac{1}{8}\\end{matrix}\\right], \\quad \\left[\\begin{matrix}\\frac{1}{8} & \\frac{1}{8} & \\frac{1}{8}\\\\\\frac{1}{8} & \\frac{1}{8} & \\frac{1}{8}\\\\\\frac{1}{8} & \\frac{1}{8} & \\frac{1}{8}\\end{matrix}\\right]\\right ]$$"
      ],
      "text/plain": [
       "⎡⎡1/8  1/8  1/8⎤  ⎡1/8   -1/8  -1/8⎤  ⎡1/8   -1/8  1/8 ⎤  ⎡1/8   1/8   -1/8⎤  \n",
       "⎢⎢             ⎥  ⎢                ⎥  ⎢                ⎥  ⎢                ⎥  \n",
       "⎢⎢1/8  1/8  1/8⎥, ⎢-1/8  1/8   1/8 ⎥, ⎢-1/8  1/8   -1/8⎥, ⎢1/8   1/8   -1/8⎥, \n",
       "⎢⎢             ⎥  ⎢                ⎥  ⎢                ⎥  ⎢                ⎥  \n",
       "⎣⎣1/8  1/8  1/8⎦  ⎣-1/8  1/8   1/8 ⎦  ⎣1/8   -1/8  1/8 ⎦  ⎣-1/8  -1/8  1/8 ⎦  \n",
       "\n",
       "⎡1/8   1/8   -1/8⎤  ⎡1/8   -1/8  -1/8⎤  ⎡1/8   -1/8  1/8 ⎤  ⎡1/8  1/8  1/8⎤⎤\n",
       "⎢                ⎥  ⎢                ⎥  ⎢                ⎥  ⎢             ⎥⎥\n",
       "⎢1/8   1/8   -1/8⎥, ⎢-1/8  1/8   1/8 ⎥, ⎢-1/8  1/8   -1/8⎥, ⎢1/8  1/8  1/8⎥⎥\n",
       "⎢                ⎥  ⎢                ⎥  ⎢                ⎥  ⎢             ⎥⎥\n",
       "⎣-1/8  -1/8  1/8 ⎦  ⎣-1/8  1/8   1/8 ⎦  ⎣1/8   -1/8  1/8 ⎦  ⎣1/8  1/8  1/8⎦⎦"
      ]
     },
     "execution_count": 8,
     "metadata": {},
     "output_type": "execute_result"
    }
   ],
   "source": [
    "W = [sympy.Rational(1/A) * prj(u) for u in f]\n",
    "W"
   ]
  },
  {
   "cell_type": "markdown",
   "metadata": {},
   "source": [
    "calculate the traces $tr W_i$"
   ]
  },
  {
   "cell_type": "code",
   "execution_count": 9,
   "metadata": {},
   "outputs": [
    {
     "data": {
      "text/latex": [
       "$$\\left [ \\frac{3}{8}, \\quad \\frac{3}{8}, \\quad \\frac{3}{8}, \\quad \\frac{3}{8}, \\quad \\frac{3}{8}, \\quad \\frac{3}{8}, \\quad \\frac{3}{8}, \\quad \\frac{3}{8}\\right ]$$"
      ],
      "text/plain": [
       "[3/8, 3/8, 3/8, 3/8, 3/8, 3/8, 3/8, 3/8]"
      ]
     },
     "execution_count": 9,
     "metadata": {},
     "output_type": "execute_result"
    }
   ],
   "source": [
    "trW = [sympy.trace(w) for w in W ]\n",
    "trW"
   ]
  },
  {
   "cell_type": "markdown",
   "metadata": {},
   "source": [
    "chеcking that $\\sum W_i = Id$"
   ]
  },
  {
   "cell_type": "code",
   "execution_count": 10,
   "metadata": {},
   "outputs": [
    {
     "data": {
      "text/latex": [
       "$$\\left[\\begin{matrix}1 & 0 & 0\\\\0 & 1 & 0\\\\0 & 0 & 1\\end{matrix}\\right]$$"
      ],
      "text/plain": [
       "⎡1  0  0⎤\n",
       "⎢       ⎥\n",
       "⎢0  1  0⎥\n",
       "⎢       ⎥\n",
       "⎣0  0  1⎦"
      ]
     },
     "execution_count": 10,
     "metadata": {},
     "output_type": "execute_result"
    }
   ],
   "source": [
    "sumPOVM = W[0]\n",
    "for w in W[1:]:\n",
    "    sumPOVM += w\n",
    "sumPOVM"
   ]
  },
  {
   "cell_type": "markdown",
   "metadata": {},
   "source": [
    "Let $F:=(\\dots, F_i,\\dots)$, $F_i = \\frac{W_i}{tr(W_i)}$"
   ]
  },
  {
   "cell_type": "code",
   "execution_count": 11,
   "metadata": {},
   "outputs": [
    {
     "data": {
      "text/latex": [
       "$$\\left [ \\left[\\begin{matrix}\\frac{1}{3} & \\frac{1}{3} & \\frac{1}{3}\\\\\\frac{1}{3} & \\frac{1}{3} & \\frac{1}{3}\\\\\\frac{1}{3} & \\frac{1}{3} & \\frac{1}{3}\\end{matrix}\\right], \\quad \\left[\\begin{matrix}\\frac{1}{3} & - \\frac{1}{3} & - \\frac{1}{3}\\\\- \\frac{1}{3} & \\frac{1}{3} & \\frac{1}{3}\\\\- \\frac{1}{3} & \\frac{1}{3} & \\frac{1}{3}\\end{matrix}\\right], \\quad \\left[\\begin{matrix}\\frac{1}{3} & - \\frac{1}{3} & \\frac{1}{3}\\\\- \\frac{1}{3} & \\frac{1}{3} & - \\frac{1}{3}\\\\\\frac{1}{3} & - \\frac{1}{3} & \\frac{1}{3}\\end{matrix}\\right], \\quad \\left[\\begin{matrix}\\frac{1}{3} & \\frac{1}{3} & - \\frac{1}{3}\\\\\\frac{1}{3} & \\frac{1}{3} & - \\frac{1}{3}\\\\- \\frac{1}{3} & - \\frac{1}{3} & \\frac{1}{3}\\end{matrix}\\right], \\quad \\left[\\begin{matrix}\\frac{1}{3} & \\frac{1}{3} & - \\frac{1}{3}\\\\\\frac{1}{3} & \\frac{1}{3} & - \\frac{1}{3}\\\\- \\frac{1}{3} & - \\frac{1}{3} & \\frac{1}{3}\\end{matrix}\\right], \\quad \\left[\\begin{matrix}\\frac{1}{3} & - \\frac{1}{3} & - \\frac{1}{3}\\\\- \\frac{1}{3} & \\frac{1}{3} & \\frac{1}{3}\\\\- \\frac{1}{3} & \\frac{1}{3} & \\frac{1}{3}\\end{matrix}\\right], \\quad \\left[\\begin{matrix}\\frac{1}{3} & - \\frac{1}{3} & \\frac{1}{3}\\\\- \\frac{1}{3} & \\frac{1}{3} & - \\frac{1}{3}\\\\\\frac{1}{3} & - \\frac{1}{3} & \\frac{1}{3}\\end{matrix}\\right], \\quad \\left[\\begin{matrix}\\frac{1}{3} & \\frac{1}{3} & \\frac{1}{3}\\\\\\frac{1}{3} & \\frac{1}{3} & \\frac{1}{3}\\\\\\frac{1}{3} & \\frac{1}{3} & \\frac{1}{3}\\end{matrix}\\right]\\right ]$$"
      ],
      "text/plain": [
       "⎡⎡1/3  1/3  1/3⎤  ⎡1/3   -1/3  -1/3⎤  ⎡1/3   -1/3  1/3 ⎤  ⎡1/3   1/3   -1/3⎤  \n",
       "⎢⎢             ⎥  ⎢                ⎥  ⎢                ⎥  ⎢                ⎥  \n",
       "⎢⎢1/3  1/3  1/3⎥, ⎢-1/3  1/3   1/3 ⎥, ⎢-1/3  1/3   -1/3⎥, ⎢1/3   1/3   -1/3⎥, \n",
       "⎢⎢             ⎥  ⎢                ⎥  ⎢                ⎥  ⎢                ⎥  \n",
       "⎣⎣1/3  1/3  1/3⎦  ⎣-1/3  1/3   1/3 ⎦  ⎣1/3   -1/3  1/3 ⎦  ⎣-1/3  -1/3  1/3 ⎦  \n",
       "\n",
       "⎡1/3   1/3   -1/3⎤  ⎡1/3   -1/3  -1/3⎤  ⎡1/3   -1/3  1/3 ⎤  ⎡1/3  1/3  1/3⎤⎤\n",
       "⎢                ⎥  ⎢                ⎥  ⎢                ⎥  ⎢             ⎥⎥\n",
       "⎢1/3   1/3   -1/3⎥, ⎢-1/3  1/3   1/3 ⎥, ⎢-1/3  1/3   -1/3⎥, ⎢1/3  1/3  1/3⎥⎥\n",
       "⎢                ⎥  ⎢                ⎥  ⎢                ⎥  ⎢             ⎥⎥\n",
       "⎣-1/3  -1/3  1/3 ⎦  ⎣-1/3  1/3   1/3 ⎦  ⎣1/3   -1/3  1/3 ⎦  ⎣1/3  1/3  1/3⎦⎦"
      ]
     },
     "execution_count": 11,
     "metadata": {},
     "output_type": "execute_result"
    }
   ],
   "source": [
    "F = [w/(sympy.trace(w)) for w in W]\n",
    "F"
   ]
  },
  {
   "cell_type": "markdown",
   "metadata": {},
   "source": [
    "$\\alpha = \\{\\alpha_i\\}_i = \\{\\frac{1}{d} trW_i\\}_i$"
   ]
  },
  {
   "cell_type": "code",
   "execution_count": 12,
   "metadata": {},
   "outputs": [
    {
     "data": {
      "text/latex": [
       "$$\\left [ \\frac{1}{8}, \\quad \\frac{1}{8}, \\quad \\frac{1}{8}, \\quad \\frac{1}{8}, \\quad \\frac{1}{8}, \\quad \\frac{1}{8}, \\quad \\frac{1}{8}, \\quad \\frac{1}{8}\\right ]$$"
      ],
      "text/plain": [
       "[1/8, 1/8, 1/8, 1/8, 1/8, 1/8, 1/8, 1/8]"
      ]
     },
     "execution_count": 12,
     "metadata": {},
     "output_type": "execute_result"
    }
   ],
   "source": [
    "alpha = [Rational(1,d) * u for u in trW]\n",
    "alpha"
   ]
  },
  {
   "cell_type": "markdown",
   "metadata": {},
   "source": [
    "$\\mathcal{E}(A):=d\\int_{\\Omega} ((F(s),A))F(s)d\\alpha(s)=d\\sum_{\\Omega} ((F_i,A))F_i\\alpha_i$"
   ]
  },
  {
   "cell_type": "markdown",
   "metadata": {},
   "source": [
    "for matrix $d \\times d$  this is the basis matrix $E_{kl}$:"
   ]
  },
  {
   "cell_type": "code",
   "execution_count": 13,
   "metadata": {
    "collapsed": true
   },
   "outputs": [],
   "source": [
    "def basismatrix_kl(d,k,l):\n",
    "    return Matrix(d,d,lambda i,j: Integer(i == k and j == l))"
   ]
  },
  {
   "cell_type": "markdown",
   "metadata": {},
   "source": [
    "$G_{kl}$ basis matricies for $\\mathcal{L}(H)$ "
   ]
  },
  {
   "cell_type": "code",
   "execution_count": 14,
   "metadata": {
    "collapsed": true
   },
   "outputs": [],
   "source": [
    "def G_kl(d,k,l):\n",
    "    if k==l :\n",
    "        return  basismatrix_kl(d,k,l)\n",
    "    if k<l :\n",
    "        return basismatrix_kl(d,k,l) + basismatrix_kl(d,l,k)\n",
    "    else :\n",
    "        return 1j * basismatrix_kl(d,k,l) - 1j * basismatrix_kl(d,l,k)"
   ]
  },
  {
   "cell_type": "markdown",
   "metadata": {},
   "source": [
    "$tr(F_i G_{kl})$"
   ]
  },
  {
   "cell_type": "code",
   "execution_count": 15,
   "metadata": {
    "collapsed": true
   },
   "outputs": [],
   "source": [
    "def trWiEkl(F_i,G_kl):\n",
    "    return (F_i * G_kl(d,k,l)).trace() "
   ]
  },
  {
   "cell_type": "markdown",
   "metadata": {},
   "source": [
    "$tr(F_i A)F_i$"
   ]
  },
  {
   "cell_type": "code",
   "execution_count": 16,
   "metadata": {
    "collapsed": true
   },
   "outputs": [],
   "source": [
    "def inthesum(F_i,A):\n",
    "    return (F_i * A).trace() * F_i"
   ]
  },
  {
   "cell_type": "markdown",
   "metadata": {},
   "source": [
    "$\\mathcal{E}(G_{kl})=d\\sum_{\\Omega} tr(F_i G_{kl})F_i\\alpha_i$\n",
    "\n",
    "$\\sum_{\\Omega} tr(F_i G_{kl})F_i\\alpha_i$:"
   ]
  },
  {
   "cell_type": "code",
   "execution_count": 17,
   "metadata": {
    "collapsed": true
   },
   "outputs": [],
   "source": [
    "def cE_of_Gkl(F,A,alpha):\n",
    "    B = inthesum(F[0],A)*alpha[0]\n",
    "    for i in range(1, len(F)):\n",
    "            B +=  inthesum(F[i],A)*alpha[i]\n",
    "    return B"
   ]
  },
  {
   "cell_type": "markdown",
   "metadata": {},
   "source": [
    "CHECK THE SUM ABOVE: range(1,len[F]) should it be range(1,len[F] + 1)?????????????????????????????"
   ]
  },
  {
   "cell_type": "markdown",
   "metadata": {},
   "source": [
    "$\\frac{1}{d}\\mathcal{E}(G_{kl})=\\sum_{m,n}\\beta_{mn}G_{mn}$ , if $k\\leq l$  then  $ \\beta_{mn} = (\\frac{A+A^t}{2})_{mn}$ else $\\beta_{mn} = (\\frac{A-A^t}{2i})_{mn}$"
   ]
  },
  {
   "cell_type": "code",
   "execution_count": 18,
   "metadata": {
    "collapsed": true
   },
   "outputs": [],
   "source": [
    "\n",
    "def beta_mn(d,k,l,m,n) :\n",
    "    A = G_kl(d,k,l)\n",
    "    B = cE_of_Gkl(F,A,alpha)\n",
    "    if m<=n :\n",
    "        return  (B+B.T)[m,n]/2\n",
    "    else :\n",
    "        return (B-B.T)[m,n]/(2j)\n"
   ]
  },
  {
   "cell_type": "code",
   "execution_count": 19,
   "metadata": {},
   "outputs": [
    {
     "data": {
      "text/latex": [
       "$$\\left[\\begin{matrix}\\frac{1}{9} & 0 & 0 & 0 & \\frac{1}{9} & 0 & 0 & 0 & \\frac{1}{9}\\end{matrix}\\right]$$"
      ],
      "text/plain": [
       "[1/9  0  0  0  1/9  0  0  0  1/9]"
      ]
     },
     "execution_count": 19,
     "metadata": {},
     "output_type": "execute_result"
    }
   ],
   "source": [
    "\n",
    "def cE(d,k,l):\n",
    "    return Matrix(d,d, lambda m,n: beta_mn(d, k, l, m, n)).reshape(1,(d)**2)\n",
    "cE(3,0,0)"
   ]
  },
  {
   "cell_type": "markdown",
   "metadata": {},
   "source": [
    "$\\text{matrix with rows }cE(d,k,l)^T$ i.e. $\\frac{1}{d}\\mathcal{E}(A)$ in the basis $G_{kl}$ of $\\mathcal{L}(H)$"
   ]
  },
  {
   "cell_type": "code",
   "execution_count": 20,
   "metadata": {},
   "outputs": [
    {
     "data": {
      "text/latex": [
       "$$\\left[\\begin{matrix}\\frac{1}{3} & 0 & 0 & 0 & \\frac{1}{3} & 0 & 0 & 0 & \\frac{1}{3}\\\\0 & \\frac{2}{3} & 0 & 0 & 0 & 0 & 0 & 0 & 0\\\\0 & 0 & \\frac{2}{3} & 0 & 0 & 0 & 0 & 0 & 0\\\\0 & 0 & 0 & 0 & 0 & 0 & 0 & 0 & 0\\\\\\frac{1}{3} & 0 & 0 & 0 & \\frac{1}{3} & 0 & 0 & 0 & \\frac{1}{3}\\\\0 & 0 & 0 & 0 & 0 & \\frac{2}{3} & 0 & 0 & 0\\\\0 & 0 & 0 & 0 & 0 & 0 & 0 & 0 & 0\\\\0 & 0 & 0 & 0 & 0 & 0 & 0 & 0 & 0\\\\\\frac{1}{3} & 0 & 0 & 0 & \\frac{1}{3} & 0 & 0 & 0 & \\frac{1}{3}\\end{matrix}\\right]$$"
      ],
      "text/plain": [
       "⎡1/3   0    0   0  1/3   0   0  0  1/3⎤\n",
       "⎢                                     ⎥\n",
       "⎢ 0   2/3   0   0   0    0   0  0   0 ⎥\n",
       "⎢                                     ⎥\n",
       "⎢ 0    0   2/3  0   0    0   0  0   0 ⎥\n",
       "⎢                                     ⎥\n",
       "⎢ 0    0    0   0   0    0   0  0   0 ⎥\n",
       "⎢                                     ⎥\n",
       "⎢1/3   0    0   0  1/3   0   0  0  1/3⎥\n",
       "⎢                                     ⎥\n",
       "⎢ 0    0    0   0   0   2/3  0  0   0 ⎥\n",
       "⎢                                     ⎥\n",
       "⎢ 0    0    0   0   0    0   0  0   0 ⎥\n",
       "⎢                                     ⎥\n",
       "⎢ 0    0    0   0   0    0   0  0   0 ⎥\n",
       "⎢                                     ⎥\n",
       "⎣1/3   0    0   0  1/3   0   0  0  1/3⎦"
      ]
     },
     "execution_count": 20,
     "metadata": {},
     "output_type": "execute_result"
    }
   ],
   "source": [
    "M = Integer (d) * Matrix([cE(d,k,l) for k,l in itertools.product(range(0,d), range(0,d))]).T\n",
    "M"
   ]
  },
  {
   "cell_type": "markdown",
   "metadata": {},
   "source": [
    "eigenvalues of $\\mathcal{E}(A)$"
   ]
  },
  {
   "cell_type": "code",
   "execution_count": 21,
   "metadata": {},
   "outputs": [
    {
     "data": {
      "text/latex": [
       "$$\\left \\{ 0 : 5, \\quad \\frac{2}{3} : 3, \\quad 1 : 1\\right \\}$$"
      ],
      "text/plain": [
       "{0: 5, 2/3: 3, 1: 1}"
      ]
     },
     "execution_count": 21,
     "metadata": {},
     "output_type": "execute_result"
    }
   ],
   "source": [
    "M.eigenvals()"
   ]
  }
 ],
 "metadata": {
  "kernelspec": {
   "display_name": "Python 3",
   "language": "python",
   "name": "python3"
  },
  "language_info": {
   "codemirror_mode": {
    "name": "ipython",
    "version": 3
   },
   "file_extension": ".py",
   "mimetype": "text/x-python",
   "name": "python",
   "nbconvert_exporter": "python",
   "pygments_lexer": "ipython3",
   "version": "3.5.4"
  }
 },
 "nbformat": 4,
 "nbformat_minor": 1
}
